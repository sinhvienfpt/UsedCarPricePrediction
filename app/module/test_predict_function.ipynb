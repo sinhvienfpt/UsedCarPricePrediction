{
 "cells": [
  {
   "cell_type": "markdown",
   "metadata": {},
   "source": [
    "## Predict function"
   ]
  },
  {
   "cell_type": "markdown",
   "metadata": {},
   "source": [
    "This is a sample notebook for testing the **prediction with input values**, after that I will **make a module** for that."
   ]
  },
  {
   "cell_type": "code",
   "execution_count": 1,
   "metadata": {},
   "outputs": [],
   "source": [
    "import pandas as pd\n",
    "import numpy as np\n",
    "\n",
    "import pickle"
   ]
  },
  {
   "cell_type": "code",
   "execution_count": 2,
   "metadata": {},
   "outputs": [],
   "source": [
    "example_input_dict = {'Kilometers_Driven': 54840, 'Power': 99.6, 'Engine': 1485, 'Year': 2014, 'Seats': 5, 'Mileage': 18.8, 'Brand': 'Volkswagen', 'Location': 'Chennai', 'Fuel_Type': 'Petrol', 'Transmission': 'Automatic', 'Owner_Type': 3}"
   ]
  },
  {
   "cell_type": "code",
   "execution_count": 7,
   "metadata": {},
   "outputs": [],
   "source": [
    "def to_df(input_dict):\n",
    "    \n",
    "    features = ['Kilometers_Driven', 'Owner_Type', 'Mileage', 'Engine', 'Power',\n",
    "        'Seats', 'Age', 'Ahmedabad', 'Bangalore', 'Chennai', 'Coimbatore',\n",
    "        'Delhi', 'Hyderabad', 'Jaipur', 'Kochi', 'Kolkata', 'Mumbai', 'Pune',\n",
    "        'CNG', 'Diesel', 'LPG', 'Petrol', 'Automatic', 'Manual', 'Ambassador',\n",
    "        'Audi', 'BMW', 'Bentley', 'Chevrolet', 'Datsun', 'Fiat', 'Force',\n",
    "        'Ford', 'Honda', 'Hyundai', 'ISUZU', 'Isuzu', 'Jaguar', 'Jeep',\n",
    "        'Lamborghini', 'Land', 'Mahindra', 'Maruti', 'Mercedes-Benz', 'Mini',\n",
    "        'Mitsubishi', 'Nissan', 'Porsche', 'Renault', 'Skoda', 'Smart', 'Tata',\n",
    "        'Toyota', 'Volkswagen', 'Volvo']\n",
    "\n",
    "   # Create a DataFrame with all zeros\n",
    "    zeros_array = np.zeros((1, len(features)))\n",
    "    # Create a DataFrame from the numpy array\n",
    "    df = pd.DataFrame(zeros_array, columns=features)\n",
    "    \n",
    "    \n",
    "    df['Kilometers_Driven'] = float(input_dict['Kilometers_Driven'])\n",
    "    df['Power'] = float(input_dict['Power'])\n",
    "    df['Engine'] = int(input_dict['Engine'])\n",
    "    df['Seats'] = int(input_dict['Seats'])\n",
    "    df['Mileage'] = float(input_dict['Mileage'])\n",
    "    df['Age'] = 2019 - int(input_dict['Year'])  \n",
    "    df[input_dict['Location']] = 1\n",
    "    df[input_dict['Fuel_Type']] = 1\n",
    "    df[input_dict['Transmission']] = 1\n",
    "    df[input_dict['Brand']] = 1\n",
    "    df['Owner_Type'] = int(input_dict['Owner_Type'])\n",
    "\n",
    "    return df"
   ]
  },
  {
   "cell_type": "code",
   "execution_count": 11,
   "metadata": {},
   "outputs": [
    {
     "data": {
      "text/html": [
       "<div>\n",
       "<style scoped>\n",
       "    .dataframe tbody tr th:only-of-type {\n",
       "        vertical-align: middle;\n",
       "    }\n",
       "\n",
       "    .dataframe tbody tr th {\n",
       "        vertical-align: top;\n",
       "    }\n",
       "\n",
       "    .dataframe thead th {\n",
       "        text-align: right;\n",
       "    }\n",
       "</style>\n",
       "<table border=\"1\" class=\"dataframe\">\n",
       "  <thead>\n",
       "    <tr style=\"text-align: right;\">\n",
       "      <th></th>\n",
       "      <th>Kilometers_Driven</th>\n",
       "      <th>Owner_Type</th>\n",
       "      <th>Mileage</th>\n",
       "      <th>Engine</th>\n",
       "      <th>Power</th>\n",
       "      <th>Seats</th>\n",
       "      <th>Age</th>\n",
       "      <th>Ahmedabad</th>\n",
       "      <th>Bangalore</th>\n",
       "      <th>Chennai</th>\n",
       "      <th>...</th>\n",
       "      <th>Mitsubishi</th>\n",
       "      <th>Nissan</th>\n",
       "      <th>Porsche</th>\n",
       "      <th>Renault</th>\n",
       "      <th>Skoda</th>\n",
       "      <th>Smart</th>\n",
       "      <th>Tata</th>\n",
       "      <th>Toyota</th>\n",
       "      <th>Volkswagen</th>\n",
       "      <th>Volvo</th>\n",
       "    </tr>\n",
       "  </thead>\n",
       "  <tbody>\n",
       "    <tr>\n",
       "      <th>0</th>\n",
       "      <td>54840.0</td>\n",
       "      <td>3</td>\n",
       "      <td>18.8</td>\n",
       "      <td>1485</td>\n",
       "      <td>99.6</td>\n",
       "      <td>5</td>\n",
       "      <td>5</td>\n",
       "      <td>0.0</td>\n",
       "      <td>0.0</td>\n",
       "      <td>1</td>\n",
       "      <td>...</td>\n",
       "      <td>0.0</td>\n",
       "      <td>0.0</td>\n",
       "      <td>0.0</td>\n",
       "      <td>0.0</td>\n",
       "      <td>0.0</td>\n",
       "      <td>0.0</td>\n",
       "      <td>0.0</td>\n",
       "      <td>0.0</td>\n",
       "      <td>1</td>\n",
       "      <td>0.0</td>\n",
       "    </tr>\n",
       "  </tbody>\n",
       "</table>\n",
       "<p>1 rows × 55 columns</p>\n",
       "</div>"
      ],
      "text/plain": [
       "   Kilometers_Driven  Owner_Type  Mileage  Engine  Power  Seats  Age  \\\n",
       "0            54840.0           3     18.8    1485   99.6      5    5   \n",
       "\n",
       "   Ahmedabad  Bangalore  Chennai  ...  Mitsubishi  Nissan  Porsche  Renault  \\\n",
       "0        0.0        0.0        1  ...         0.0     0.0      0.0      0.0   \n",
       "\n",
       "   Skoda  Smart  Tata  Toyota  Volkswagen  Volvo  \n",
       "0    0.0    0.0   0.0     0.0           1    0.0  \n",
       "\n",
       "[1 rows x 55 columns]"
      ]
     },
     "execution_count": 11,
     "metadata": {},
     "output_type": "execute_result"
    }
   ],
   "source": [
    "# Test to_df function\n",
    "df = to_df(example_input_dict)\n",
    "df"
   ]
  },
  {
   "cell_type": "code",
   "execution_count": 9,
   "metadata": {},
   "outputs": [],
   "source": [
    "def predict(df):\n",
    "    with open('../../model/model.pkl', 'rb') as model_file:\n",
    "        model = pickle.load(model_file)\n",
    "    return model.predict(df)"
   ]
  },
  {
   "cell_type": "code",
   "execution_count": 10,
   "metadata": {},
   "outputs": [
    {
     "name": "stdout",
     "output_type": "stream",
     "text": [
      "[5.7206993]\n"
     ]
    }
   ],
   "source": [
    "input_df = to_df(example_input_dict)\n",
    "print(predict(input_df))"
   ]
  },
  {
   "cell_type": "markdown",
   "metadata": {},
   "source": [
    "OK! The function run correctly."
   ]
  }
 ],
 "metadata": {
  "kernelspec": {
   "display_name": "base",
   "language": "python",
   "name": "python3"
  },
  "language_info": {
   "codemirror_mode": {
    "name": "ipython",
    "version": 3
   },
   "file_extension": ".py",
   "mimetype": "text/x-python",
   "name": "python",
   "nbconvert_exporter": "python",
   "pygments_lexer": "ipython3",
   "version": "3.11.7"
  }
 },
 "nbformat": 4,
 "nbformat_minor": 2
}
